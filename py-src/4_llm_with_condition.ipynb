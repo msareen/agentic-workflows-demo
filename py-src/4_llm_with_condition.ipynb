{
 "cells": [
  {
   "cell_type": "code",
   "execution_count": 1,
   "id": "be019701",
   "metadata": {},
   "outputs": [
    {
     "name": "stdout",
     "output_type": "stream",
     "text": [
      "LLM Generated: Alright, I love this game!\n",
      "\n",
      "Here's a random fact for you:\n",
      "\n",
      "**Did you know that a group of owls is called a 'parliament'?**\n",
      "\n",
      "And now for the joke, connecting to our wise feathered friends:\n",
      "\n",
      "Why are owls so bad at passing laws in their parliament?\n",
      "<br>...Because they can't agree on **hoot**!\n",
      "\n",
      "Your turn! What happens next?\n",
      "😄 Haa haa haa!\n"
     ]
    },
    {
     "data": {
      "text/plain": [
       "{'message': AIMessage(content=\"Alright, I love this game!\\n\\nHere's a random fact for you:\\n\\n**Did you know that a group of owls is called a 'parliament'?**\\n\\nAnd now for the joke, connecting to our wise feathered friends:\\n\\nWhy are owls so bad at passing laws in their parliament?\\n<br>...Because they can't agree on **hoot**!\\n\\nYour turn! What happens next?\", additional_kwargs={}, response_metadata={'prompt_feedback': {'block_reason': 0, 'safety_ratings': []}, 'finish_reason': 'STOP', 'model_name': 'gemini-2.5-flash', 'safety_ratings': []}, id='run--ce24f95f-cef0-4483-8ce9-a890f903bff1-0', usage_metadata={'input_tokens': 16, 'output_tokens': 1119, 'total_tokens': 1135, 'input_token_details': {'cache_read': 0}, 'output_token_details': {'reasoning': 1033}}),\n",
       " 'condition': 'True'}"
      ]
     },
     "execution_count": 1,
     "metadata": {},
     "output_type": "execute_result"
    }
   ],
   "source": [
    "from load_llm import llm \n",
    "from utils import print_graph\n",
    "from typing import Literal, Optional\n",
    "from typing_extensions import TypedDict\n",
    "from langgraph.graph import StateGraph, START, END\n",
    "from langgraph.checkpoint.memory import MemorySaver\n",
    "\n",
    "# ---- Setup memory and config ----\n",
    "memory = MemorySaver()\n",
    "config = {\"configurable\": {\"thread_id\": \"1\"}}\n",
    "\n",
    "# ---- Structured Output Schema ----\n",
    "class Condition(TypedDict):\n",
    "    choice: Literal[\"True\", \"False\"]  # Use string to avoid protobuf error\n",
    "\n",
    "class State(TypedDict):\n",
    "    message: str\n",
    "    condition: Optional[str]  # Must match the string return type\n",
    "\n",
    "# ---- Graph Builder ----\n",
    "graph_builder = StateGraph(State)\n",
    "\n",
    "# ---- Nodes ----\n",
    "def chat_bot(state: State):\n",
    "    # LLM generates a message (plain text)\n",
    "    return { \"message\": llm.invoke(state[\"message\"]) }\n",
    "\n",
    "def simple_router_node(state: State):\n",
    "    # Ask the LLM to classify whether the message is funny\n",
    "    llm2 = llm.with_structured_output(Condition)\n",
    "    print(f\"LLM Generated: {state['message'].content}\")\n",
    "    \n",
    "    prompt = f\"\"\"Decide whether the following message is funny or not. \n",
    "    Respond with 'True' if it's funny, 'False' otherwise.\n",
    "\n",
    "    Message: {state['message']}\n",
    "    \"\"\"\n",
    "    response: Condition = llm2.invoke(prompt)\n",
    "    \n",
    "    if response[\"choice\"] == \"True\":\n",
    "        print(\"😄 Haa haa haa!\")\n",
    "    else:  \n",
    "        print(\"😐 Not funny, try again.\")\n",
    "\n",
    "    return {\n",
    "        \"condition\": response[\"choice\"],\n",
    "        \"message\": \"not funny, try again\" if response[\"choice\"] == \"False\" else state[\"message\"]\n",
    "    }\n",
    "\n",
    "# Building Graph\n",
    "\n",
    "# ---- Add Nodes ----\n",
    "graph_builder.add_node(\"chatbot\", chat_bot)\n",
    "graph_builder.add_node(\"simple_route_node\", simple_router_node)\n",
    "\n",
    "# ---- Conditional Routing ----\n",
    "graph_builder.add_conditional_edges(\n",
    "    \"simple_route_node\",\n",
    "    lambda state: state[\"condition\"],\n",
    "    {\n",
    "        \"True\": END,\n",
    "        \"False\": \"chatbot\"\n",
    "    }\n",
    ")\n",
    "\n",
    "# ---- Static Edges ----\n",
    "graph_builder.add_edge(START, \"chatbot\")\n",
    "graph_builder.add_edge(\"chatbot\", \"simple_route_node\")\n",
    "\n",
    "# ---- Compile Graph ----\n",
    "graph = graph_builder.compile(checkpointer=memory)\n",
    "print_graph(graph=graph, file_name=\"conditional_edge.png\")\n",
    "\n",
    "# ---- Run the Graph ----\n",
    "input_state = {\n",
    "    \"message\": \"Give me some random fact and we will see what happen next with a joke\"\n",
    "}\n",
    "\n",
    "graph.invoke(input_state, config=config)\n"
   ]
  }
 ],
 "metadata": {
  "kernelspec": {
   "display_name": "agent-demo",
   "language": "python",
   "name": "python3"
  },
  "language_info": {
   "codemirror_mode": {
    "name": "ipython",
    "version": 3
   },
   "file_extension": ".py",
   "mimetype": "text/x-python",
   "name": "python",
   "nbconvert_exporter": "python",
   "pygments_lexer": "ipython3",
   "version": "3.12.10"
  }
 },
 "nbformat": 4,
 "nbformat_minor": 5
}
