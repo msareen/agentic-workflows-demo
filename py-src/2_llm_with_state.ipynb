{
 "cells": [
  {
   "cell_type": "code",
   "execution_count": null,
   "id": "aafa6494",
   "metadata": {},
   "outputs": [
    {
     "name": "stdout",
     "output_type": "stream",
     "text": [
      "Okay, Dom!\n",
      "==========================================\n",
      "As an AI, I don't know your name or any personal information about you. I don't have memory of past conversations or access to your identity.\n",
      "\n",
      "You'll have to tell me!\n",
      "==========================================\n"
     ]
    }
   ],
   "source": [
    "from load_llm import llm\n",
    "from typing import Annotated\n",
    "from typing_extensions import TypedDict\n",
    "from langgraph.graph.message import add_messages\n",
    "from langgraph.graph import StateGraph, START, END\n",
    "from utils import print_graph\n",
    "\n",
    "class State(TypedDict):\n",
    "    messages: Annotated[list, add_messages]\n",
    "\n",
    "graph_builder = StateGraph(State)\n",
    "\n",
    "def chat_bot(state: State):\n",
    "    return { \"messages\": [llm.invoke(state[\"messages\"])] }\n",
    "\n",
    "\n",
    "graph_builder.add_node(\"chatbot\", chat_bot)\n",
    "graph_builder.add_edge(START, \"chatbot\")\n",
    "graph_builder.add_edge(\"chatbot\", END)\n",
    "graph = graph_builder.compile()\n",
    "\n",
    "print_graph(graph=graph,file_name=\"llm_with_state.png\")\n",
    "\n",
    "def printLast(response: State): \n",
    "    print(response[\"messages\"][-1].content)\n",
    "    print(\"==========================================\")\n",
    "\n",
    "\n",
    "response = graph.invoke({\"messages\": [{\"role\": \"user\", \"content\": \"My name is Don\" }]})\n",
    "printLast(response)\n",
    "\n",
    "\n",
    "# We are executing the graph in 2 very separate context\n",
    "response = graph.invoke({\"messages\": [{\"role\": \"user\", \"content\": \"what is my name\" }]})\n",
    "printLast(response)\n",
    "\n",
    "\n",
    "\n",
    "\n"
   ]
  }
 ],
 "metadata": {
  "kernelspec": {
   "display_name": "agent-demo",
   "language": "python",
   "name": "python3"
  },
  "language_info": {
   "codemirror_mode": {
    "name": "ipython",
    "version": 3
   },
   "file_extension": ".py",
   "mimetype": "text/x-python",
   "name": "python",
   "nbconvert_exporter": "python",
   "pygments_lexer": "ipython3",
   "version": "3.12.10"
  }
 },
 "nbformat": 4,
 "nbformat_minor": 5
}
