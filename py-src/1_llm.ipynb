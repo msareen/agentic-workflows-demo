{
 "cells": [
  {
   "cell_type": "code",
   "execution_count": 1,
   "id": "e9b7c9c6",
   "metadata": {},
   "outputs": [
    {
     "name": "stdout",
     "output_type": "stream",
     "text": [
      "The current President of India is **Droupadi Murmu**.\n"
     ]
    }
   ],
   "source": [
    "from load_llm import llm\n",
    "\n",
    "ans = llm.invoke(\"Who is the president of India\")\n",
    "print(ans.content)"
   ]
  }
 ],
 "metadata": {
  "kernelspec": {
   "display_name": "agent-demo",
   "language": "python",
   "name": "python3"
  },
  "language_info": {
   "codemirror_mode": {
    "name": "ipython",
    "version": 3
   },
   "file_extension": ".py",
   "mimetype": "text/x-python",
   "name": "python",
   "nbconvert_exporter": "python",
   "pygments_lexer": "ipython3",
   "version": "3.12.10"
  }
 },
 "nbformat": 4,
 "nbformat_minor": 5
}
