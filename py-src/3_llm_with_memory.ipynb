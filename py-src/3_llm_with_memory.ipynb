{
 "cells": [
  {
   "cell_type": "code",
   "execution_count": null,
   "id": "873de756",
   "metadata": {},
   "outputs": [
    {
     "name": "stdout",
     "output_type": "stream",
     "text": [
      "Provide User Input:\n",
      "Bilkul sahi kaha! Aur Don ko pakadna mushkil hi nahin, namumkin hai! 😉\n",
      "--------------------\n",
      "Based on what you told me, your name is **Don**.\n"
     ]
    }
   ],
   "source": [
    "from load_llm import llm\n",
    "from typing import Annotated\n",
    "from typing_extensions import TypedDict\n",
    "from langgraph.graph.message import add_messages\n",
    "from langgraph.graph import StateGraph, START, END\n",
    "from langgraph.checkpoint.memory import MemorySaver\n",
    "from utils import print_graph\n",
    "\n",
    "memory = MemorySaver()\n",
    "config = {\"configurable\": {\"thread_id\": \"1\"}}\n",
    "\n",
    "class State(TypedDict):\n",
    "    messages: Annotated[list, add_messages]\n",
    "\n",
    "graph_builder = StateGraph(State)\n",
    "\n",
    "def chat_bot(state: State):\n",
    "    return { \"messages\": [llm.invoke(state[\"messages\"])] }\n",
    "\n",
    "\n",
    "graph_builder.add_node(\"chatbot\", chat_bot)\n",
    "graph_builder.add_edge(START, \"chatbot\")\n",
    "graph_builder.add_edge(\"chatbot\", END)\n",
    "graph = graph_builder.compile(checkpointer=memory)\n",
    "\n",
    "print_graph(graph=graph,file_name=\"llm_with_memory.png\")\n",
    "\n",
    "def printLast(response: State): {\n",
    "    print(response[\"messages\"][-1].content)\n",
    "}\n",
    "\n",
    "userMessage = \"Saara jahan mujhe Don k naam se jaanta hai!\"\n",
    "response = graph.invoke({\"messages\": [{\"role\": \"user\", \"content\": userMessage }]},config=config)\n",
    "printLast(response)\n",
    "\n",
    "print(\"--------------------\")\n",
    "userMessage = \"What is my name, reply in english?\"\n",
    "# We are executing the graph in 2 very separate context\n",
    "response = graph.invoke({\"messages\": [{\"role\": \"user\", \"content\": userMessage }]},config=config)\n",
    "printLast(response)\n",
    "\n",
    "\n"
   ]
  }
 ],
 "metadata": {
  "kernelspec": {
   "display_name": "agent-demo",
   "language": "python",
   "name": "python3"
  },
  "language_info": {
   "codemirror_mode": {
    "name": "ipython",
    "version": 3
   },
   "file_extension": ".py",
   "mimetype": "text/x-python",
   "name": "python",
   "nbconvert_exporter": "python",
   "pygments_lexer": "ipython3",
   "version": "3.12.10"
  }
 },
 "nbformat": 4,
 "nbformat_minor": 5
}
